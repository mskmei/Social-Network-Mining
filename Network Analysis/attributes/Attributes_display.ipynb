{
 "cells": [
  {
   "cell_type": "code",
   "execution_count": 1,
   "id": "d7ab14d8",
   "metadata": {},
   "outputs": [],
   "source": [
    "import matplotlib.pyplot as plt\n",
    "import networkx as nx\n",
    "import numpy as np\n",
    "import os\n",
    "import pandas as pd"
   ]
  },
  {
   "cell_type": "code",
   "execution_count": 2,
   "id": "3f531f49",
   "metadata": {},
   "outputs": [],
   "source": [
    "G_face = nx.read_edgelist('data/facebook_combined.txt', delimiter=' ', nodetype=int)"
   ]
  },
  {
   "cell_type": "code",
   "execution_count": 3,
   "id": "f9eb4416",
   "metadata": {},
   "outputs": [],
   "source": [
    "nodes = G_face.number_of_nodes()# number of edges\n",
    "density = nx.density(G_face) # density\n",
    "mean_degree = np.mean([degree for node, degree in G_face.degree()])\n",
    "prob = density"
   ]
  },
  {
   "cell_type": "code",
   "execution_count": 4,
   "id": "72d1ad9a",
   "metadata": {},
   "outputs": [],
   "source": [
    "G_rd = nx.random_graphs.erdos_renyi_graph(nodes, density)\n",
    "G_ws = nx.random_graphs.watts_strogatz_graph(nodes, int(mean_degree), prob)\n",
    "# prob: The probability of rewiring each edge\n",
    "G_ba = nx.random_graphs.barabasi_albert_graph(nodes, int(mean_degree)//2)\n",
    "# The second parameter denotes number of edges to attach from a new node to existing nodes.\n",
    "# Hence, if we want generate model with same edge number, we should devide mean_degree into half\n",
    "# since every node will be considered to add and to be added edges."
   ]
  },
  {
   "cell_type": "code",
   "execution_count": 5,
   "id": "2e5033f1",
   "metadata": {},
   "outputs": [],
   "source": [
    "data_dir = os.path.expanduser(\"data/cora\")\n",
    "edgelist = pd.read_csv(os.path.join(data_dir, \"cora.cites\"), sep='\\t', header=None, names=[\"target\", \"source\"])\n",
    "edgelist[\"label\"] = \"cites\"\n",
    "G_cora = nx.from_pandas_edgelist(edgelist, edge_attr=\"label\")\n",
    "nx.set_node_attributes(G_cora, \"paper\", \"label\")"
   ]
  },
  {
   "cell_type": "code",
   "execution_count": 6,
   "id": "88defe3e",
   "metadata": {},
   "outputs": [
    {
     "name": "stdout",
     "output_type": "stream",
     "text": [
      "---------------------------------------\n",
      "Model:  G_face\n",
      "Clustering: 0.6055467186200876\n",
      "Average distance: 3.6925068496963913\n",
      "Diameter: 8\n",
      "Density of graph: 0.010819963503439287\n",
      "Number of edges in the graph: 88234\n",
      "---------------------------------------\n",
      "Model:  G_rd\n",
      "Clustering: 0.010737295109016633\n",
      "Average distance: 2.605948367949393\n",
      "Diameter: 4\n",
      "Density of graph: 0.010814077356963268\n",
      "Number of edges in the graph: 88186\n",
      "---------------------------------------\n",
      "Model:  G_ws\n",
      "Clustering: 0.7091364264317727\n",
      "Average distance: 4.178024047606172\n",
      "Diameter: 6\n",
      "Density of graph: 0.010401188707280832\n",
      "Number of edges in the graph: 84819\n",
      "---------------------------------------\n",
      "Model:  G_ba\n",
      "Clustering: 0.036275682561898066\n",
      "Average distance: 2.5362561484172215\n",
      "Diameter: 4\n",
      "Density of graph: 0.010347109736532405\n",
      "Number of edges in the graph: 84378\n",
      "---------------------------------------\n",
      "Model:  G_cora\n",
      "Clustering: 0.2406732985019372\n",
      "Average distance: 3.8980797636632203\n",
      "Diameter: 19\n",
      "Density of graph: 0.0014399999126942077\n",
      "Number of edges in the graph: 5278\n"
     ]
    }
   ],
   "source": [
    "models = [G_face, G_rd, G_ws, G_ba, G_cora]\n",
    "labels = [\"G_face\", \"G_rd\", \"G_ws\", \"G_ba\", \"G_cora\"]\n",
    "\n",
    "for label, G in zip(labels, models):\n",
    "    print(\"---------------------------------------\")\n",
    "    print(\"Model: \", label)\n",
    "    # Clustering\n",
    "    cluster = nx.average_clustering(G)\n",
    "    print(\"Clustering:\", cluster)\n",
    "    # Average distance\n",
    "    if nx.is_connected(G):\n",
    "        mean_dis = nx.average_shortest_path_length(G)\n",
    "    else:\n",
    "        mean_dis = np.mean([degree for node, degree in G.degree()])\n",
    "    print(\"Average distance:\", mean_dis)\n",
    "    # Diameter\n",
    "    if nx.is_connected(G):\n",
    "        diameter = nx.diameter(G)\n",
    "    else:\n",
    "        H = list(G.subgraph(c) for c in nx.connected_components(G))[0]\n",
    "        diameter = nx.diameter(H)\n",
    "    print(\"Diameter:\", diameter)\n",
    "    # Density\n",
    "    density = nx.density(G)\n",
    "    print(\"Density of graph:\", density)\n",
    "    edges = G.number_of_edges()# 连边数量\n",
    "    print(\"Number of edges in the graph:\", edges)"
   ]
  }
 ],
 "metadata": {
  "kernelspec": {
   "display_name": "Python 3",
   "language": "python",
   "name": "python3"
  },
  "language_info": {
   "codemirror_mode": {
    "name": "ipython",
    "version": 3
   },
   "file_extension": ".py",
   "mimetype": "text/x-python",
   "name": "python",
   "nbconvert_exporter": "python",
   "pygments_lexer": "ipython3",
   "version": "3.9.1"
  }
 },
 "nbformat": 4,
 "nbformat_minor": 5
}
