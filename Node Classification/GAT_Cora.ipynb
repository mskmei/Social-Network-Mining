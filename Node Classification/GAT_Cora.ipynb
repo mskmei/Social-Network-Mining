{
  "cells": [
    {
      "cell_type": "code",
      "execution_count": 1,
      "metadata": {
        "id": "b5vHbwAEnLhx"
      },
      "outputs": [],
      "source": [
        "import os\n",
        "import json\n",
        "import datetime\n",
        "import numpy as np\n",
        "import pandas as pd\n",
        "import matplotlib.pyplot as plt\n",
        "import seaborn as sns"
      ]
    },
    {
      "cell_type": "code",
      "execution_count": 2,
      "metadata": {
        "colab": {
          "base_uri": "https://localhost:8080/",
          "height": 949
        },
        "id": "kqyyO4SVnXuP",
        "outputId": "723d0649-9d7a-45db-c43a-738ce1ec8ab7"
      },
      "outputs": [
        {
          "output_type": "stream",
          "name": "stdout",
          "text": [
            "Looking in indexes: https://pypi.org/simple, https://us-python.pkg.dev/colab-wheels/public/simple/\n",
            "Looking in links: https://data.pyg.org/whl/torch-1.13.0+cu116.html\n",
            "Collecting torch-scatter\n",
            "  Downloading https://data.pyg.org/whl/torch-1.13.0%2Bcu116/torch_scatter-2.1.0%2Bpt113cu116-cp38-cp38-linux_x86_64.whl (9.4 MB)\n",
            "\u001b[2K     \u001b[90m━━━━━━━━━━━━━━━━━━━━━━━━━━━━━━━━━━━━━━━━\u001b[0m \u001b[32m9.4/9.4 MB\u001b[0m \u001b[31m47.5 MB/s\u001b[0m eta \u001b[36m0:00:00\u001b[0m\n",
            "\u001b[?25hCollecting torch-sparse\n",
            "  Downloading https://data.pyg.org/whl/torch-1.13.0%2Bcu116/torch_sparse-0.6.16%2Bpt113cu116-cp38-cp38-linux_x86_64.whl (4.5 MB)\n",
            "\u001b[2K     \u001b[90m━━━━━━━━━━━━━━━━━━━━━━━━━━━━━━━━━━━━━━━━\u001b[0m \u001b[32m4.5/4.5 MB\u001b[0m \u001b[31m23.0 MB/s\u001b[0m eta \u001b[36m0:00:00\u001b[0m\n",
            "\u001b[?25hCollecting torch-cluster\n",
            "  Downloading https://data.pyg.org/whl/torch-1.13.0%2Bcu116/torch_cluster-1.6.0%2Bpt113cu116-cp38-cp38-linux_x86_64.whl (3.2 MB)\n",
            "\u001b[2K     \u001b[90m━━━━━━━━━━━━━━━━━━━━━━━━━━━━━━━━━━━━━━━━\u001b[0m \u001b[32m3.2/3.2 MB\u001b[0m \u001b[31m30.1 MB/s\u001b[0m eta \u001b[36m0:00:00\u001b[0m\n",
            "\u001b[?25hCollecting torch-spline-conv\n",
            "  Downloading https://data.pyg.org/whl/torch-1.13.0%2Bcu116/torch_spline_conv-1.2.1%2Bpt113cu116-cp38-cp38-linux_x86_64.whl (873 kB)\n",
            "\u001b[2K     \u001b[90m━━━━━━━━━━━━━━━━━━━━━━━━━━━━━━━━━━━━━━\u001b[0m \u001b[32m873.9/873.9 KB\u001b[0m \u001b[31m54.9 MB/s\u001b[0m eta \u001b[36m0:00:00\u001b[0m\n",
            "\u001b[?25hCollecting torch-geometric\n",
            "  Downloading torch_geometric-2.2.0.tar.gz (564 kB)\n",
            "\u001b[2K     \u001b[90m━━━━━━━━━━━━━━━━━━━━━━━━━━━━━━━━━━━━━━\u001b[0m \u001b[32m565.0/565.0 KB\u001b[0m \u001b[31m26.0 MB/s\u001b[0m eta \u001b[36m0:00:00\u001b[0m\n",
            "\u001b[?25h  Preparing metadata (setup.py) ... \u001b[?25l\u001b[?25hdone\n",
            "Requirement already satisfied: scipy in /usr/local/lib/python3.8/dist-packages (from torch-sparse) (1.7.3)\n",
            "Requirement already satisfied: tqdm in /usr/local/lib/python3.8/dist-packages (from torch-geometric) (4.64.1)\n",
            "Requirement already satisfied: numpy in /usr/local/lib/python3.8/dist-packages (from torch-geometric) (1.21.6)\n",
            "Requirement already satisfied: jinja2 in /usr/local/lib/python3.8/dist-packages (from torch-geometric) (2.11.3)\n",
            "Requirement already satisfied: requests in /usr/local/lib/python3.8/dist-packages (from torch-geometric) (2.25.1)\n",
            "Requirement already satisfied: pyparsing in /usr/local/lib/python3.8/dist-packages (from torch-geometric) (3.0.9)\n",
            "Requirement already satisfied: scikit-learn in /usr/local/lib/python3.8/dist-packages (from torch-geometric) (1.0.2)\n",
            "Collecting psutil>=5.8.0\n",
            "  Downloading psutil-5.9.4-cp36-abi3-manylinux_2_12_x86_64.manylinux2010_x86_64.manylinux_2_17_x86_64.manylinux2014_x86_64.whl (280 kB)\n",
            "\u001b[2K     \u001b[90m━━━━━━━━━━━━━━━━━━━━━━━━━━━━━━━━━━━━━━\u001b[0m \u001b[32m280.2/280.2 KB\u001b[0m \u001b[31m26.6 MB/s\u001b[0m eta \u001b[36m0:00:00\u001b[0m\n",
            "\u001b[?25hRequirement already satisfied: MarkupSafe>=0.23 in /usr/local/lib/python3.8/dist-packages (from jinja2->torch-geometric) (2.0.1)\n",
            "Requirement already satisfied: urllib3<1.27,>=1.21.1 in /usr/local/lib/python3.8/dist-packages (from requests->torch-geometric) (1.24.3)\n",
            "Requirement already satisfied: idna<3,>=2.5 in /usr/local/lib/python3.8/dist-packages (from requests->torch-geometric) (2.10)\n",
            "Requirement already satisfied: certifi>=2017.4.17 in /usr/local/lib/python3.8/dist-packages (from requests->torch-geometric) (2022.12.7)\n",
            "Requirement already satisfied: chardet<5,>=3.0.2 in /usr/local/lib/python3.8/dist-packages (from requests->torch-geometric) (4.0.0)\n",
            "Requirement already satisfied: joblib>=0.11 in /usr/local/lib/python3.8/dist-packages (from scikit-learn->torch-geometric) (1.2.0)\n",
            "Requirement already satisfied: threadpoolctl>=2.0.0 in /usr/local/lib/python3.8/dist-packages (from scikit-learn->torch-geometric) (3.1.0)\n",
            "Building wheels for collected packages: torch-geometric\n",
            "  Building wheel for torch-geometric (setup.py) ... \u001b[?25l\u001b[?25hdone\n",
            "  Created wheel for torch-geometric: filename=torch_geometric-2.2.0-py3-none-any.whl size=773302 sha256=dee27f238c6fce648b17f545efd1481d81a5842224a431474a9d7f8b89ad18ff\n",
            "  Stored in directory: /root/.cache/pip/wheels/59/a3/20/198928106d3169865ae73afcbd3d3d1796cf6b429b55c65378\n",
            "Successfully built torch-geometric\n",
            "Installing collected packages: torch-spline-conv, torch-scatter, psutil, torch-sparse, torch-cluster, torch-geometric\n",
            "  Attempting uninstall: psutil\n",
            "    Found existing installation: psutil 5.4.8\n",
            "    Uninstalling psutil-5.4.8:\n",
            "      Successfully uninstalled psutil-5.4.8\n",
            "Successfully installed psutil-5.9.4 torch-cluster-1.6.0+pt113cu116 torch-geometric-2.2.0 torch-scatter-2.1.0+pt113cu116 torch-sparse-0.6.16+pt113cu116 torch-spline-conv-1.2.1+pt113cu116\n"
          ]
        },
        {
          "output_type": "display_data",
          "data": {
            "application/vnd.colab-display-data+json": {
              "pip_warning": {
                "packages": [
                  "psutil"
                ]
              }
            }
          },
          "metadata": {}
        }
      ],
      "source": [
        "!pip install torch-scatter torch-sparse torch-cluster torch-spline-conv torch-geometric -f https://data.pyg.org/whl/torch-1.13.0+cu116.html"
      ]
    },
    {
      "cell_type": "code",
      "execution_count": 3,
      "metadata": {
        "id": "a2qjPLKZnLh6"
      },
      "outputs": [],
      "source": [
        "import torch\n",
        "import torch.nn as nn\n",
        "import torch.nn.functional as F\n",
        "from torch_geometric.nn import GATConv\n",
        "from torch_geometric.datasets import Planetoid\n",
        "from tqdm import tqdm"
      ]
    },
    {
      "cell_type": "markdown",
      "metadata": {
        "id": "cP_ebt5dnLh9"
      },
      "source": [
        "# Load dataset"
      ]
    },
    {
      "cell_type": "code",
      "execution_count": 4,
      "metadata": {
        "colab": {
          "base_uri": "https://localhost:8080/"
        },
        "id": "A3iT12NlnLh_",
        "outputId": "23194dfb-da41-4fb6-be6c-45a10a7f2d02"
      },
      "outputs": [
        {
          "output_type": "stream",
          "name": "stderr",
          "text": [
            "Downloading https://github.com/kimiyoung/planetoid/raw/master/data/ind.cora.x\n",
            "Downloading https://github.com/kimiyoung/planetoid/raw/master/data/ind.cora.tx\n",
            "Downloading https://github.com/kimiyoung/planetoid/raw/master/data/ind.cora.allx\n",
            "Downloading https://github.com/kimiyoung/planetoid/raw/master/data/ind.cora.y\n",
            "Downloading https://github.com/kimiyoung/planetoid/raw/master/data/ind.cora.ty\n",
            "Downloading https://github.com/kimiyoung/planetoid/raw/master/data/ind.cora.ally\n",
            "Downloading https://github.com/kimiyoung/planetoid/raw/master/data/ind.cora.graph\n",
            "Downloading https://github.com/kimiyoung/planetoid/raw/master/data/ind.cora.test.index\n",
            "Processing...\n",
            "Done!\n"
          ]
        },
        {
          "output_type": "execute_result",
          "data": {
            "text/plain": [
              "Data(x=[2708, 1433], edge_index=[2, 10556], y=[2708], train_mask=[2708], val_mask=[2708], test_mask=[2708])"
            ]
          },
          "metadata": {},
          "execution_count": 4
        }
      ],
      "source": [
        "cora = Planetoid(root=\"./\", name=\"Cora\", split=\"public\")\n",
        "cora_dataset = cora[0]\n",
        "cora_dataset"
      ]
    },
    {
      "cell_type": "code",
      "execution_count": 5,
      "metadata": {
        "colab": {
          "base_uri": "https://localhost:8080/"
        },
        "id": "-_Ux5ajPnLiB",
        "outputId": "deaf84e6-fbc1-403c-af76-b8d92a2a98d7"
      },
      "outputs": [
        {
          "output_type": "stream",
          "name": "stdout",
          "text": [
            "tensor(140)\n",
            "tensor(500)\n",
            "tensor(1000)\n"
          ]
        }
      ],
      "source": [
        "# Print size of train, validation, and test set\n",
        "print(cora_dataset.train_mask.sum())\n",
        "print(cora_dataset.val_mask.sum())\n",
        "print(cora_dataset.test_mask.sum())"
      ]
    },
    {
      "cell_type": "markdown",
      "metadata": {
        "id": "IhMk9OxtnLiD"
      },
      "source": [
        "# Define Hyperparameters"
      ]
    },
    {
      "cell_type": "code",
      "execution_count": 6,
      "metadata": {
        "id": "N-XhLgoknLiD"
      },
      "outputs": [],
      "source": [
        "args = {\n",
        "    \"learning_rate\": 0.01,\n",
        "    \"num_epochs\": 100,\n",
        "    \"hidden_size\": 64,\n",
        "    \"experiment description\": \"Two-hop GAT Network, Adam optimizer.\"\n",
        "}"
      ]
    },
    {
      "cell_type": "markdown",
      "metadata": {
        "id": "AEx8dEkHnLiE"
      },
      "source": [
        "# Define Network and Optimizer"
      ]
    },
    {
      "cell_type": "code",
      "execution_count": 7,
      "metadata": {
        "id": "RfzK7SbBnLiE"
      },
      "outputs": [],
      "source": [
        "class GAT(torch.nn.Module):\n",
        "    def __init__(self, input_features, hidden_size, num_classes, training=True):\n",
        "        super().__init__()\n",
        "        self.conv1 = GATConv(in_channels=input_features, out_channels=hidden_size // 8, heads=8)\n",
        "        self.conv2 = GATConv(hidden_size, num_classes, heads=1)\n",
        "\n",
        "        self.act1 = nn.ELU()\n",
        "        self.drop1 = nn.Dropout(p=0.6)\n",
        "        self.drop2 = nn.Dropout(p=0.6)\n",
        "\n",
        "    def forward(self, data):\n",
        "        x, edge_index = data.x, data.edge_index\n",
        "\n",
        "        x = self.drop1(x)\n",
        "        x, (edge_idx1, alphas1) = self.conv1(x, edge_index, return_attention_weights=True)\n",
        "        x = self.act1(x)\n",
        "        \n",
        "        x = self.drop2(x)\n",
        "        x, (edge_idx2, alphas2) = self.conv2(x, edge_index, return_attention_weights=True)\n",
        "        return F.softmax(x, dim=1), (edge_idx1, alphas1, edge_idx2, alphas2)"
      ]
    },
    {
      "cell_type": "code",
      "execution_count": 8,
      "metadata": {
        "id": "uYgj4QRgnLiF"
      },
      "outputs": [],
      "source": [
        "device = torch.device('cuda' if torch.cuda.is_available() else 'cpu')\n",
        "model = GAT(cora_dataset.num_node_features, hidden_size=args[\"hidden_size\"], num_classes=cora.num_classes).to(device)\n",
        "\n",
        "cora_dataset = cora_dataset.to(device)\n",
        "optimizer = torch.optim.Adam(model.parameters(), lr=args[\"learning_rate\"], weight_decay=5e-4)\n",
        "# optimizer = torch.optim.SGD(model.parameters(), lr=args[\"learning_rate\"], momentum=0.9)"
      ]
    },
    {
      "cell_type": "markdown",
      "metadata": {
        "id": "5xyMg6u4nLiG"
      },
      "source": [
        "# Visualization"
      ]
    },
    {
      "cell_type": "code",
      "execution_count": 9,
      "metadata": {
        "id": "otUpsry-nLiH"
      },
      "outputs": [],
      "source": [
        "def plot_loss_curves(train_losses, val_losses):\n",
        "    assert len(train_losses) == len(val_losses), \"Inconsistent plotting sizes.\"\n",
        "    \n",
        "    time = list(range(args[\"num_epochs\"]))\n",
        "    visual_df = pd.DataFrame({\n",
        "        \"Train Loss\": train_losses,\n",
        "        \"Validation Loss\": val_losses,\n",
        "        \"Epoch\": time\n",
        "    })\n",
        "\n",
        "    sns.lineplot(x='Epoch', y='Loss Value', hue='Dataset Split', data=pd.melt(visual_df, ['Epoch'], value_name=\"Loss Value\", var_name=\"Dataset Split\"))\n",
        "    plt.title(\"Loss Curves\")\n",
        "    plt.show()"
      ]
    },
    {
      "cell_type": "code",
      "execution_count": 10,
      "metadata": {
        "id": "pnfSIFEWnLiH"
      },
      "outputs": [],
      "source": [
        "def plot_accuracy_curves(train_acc, val_acc):\n",
        "    assert len(train_acc) == len(val_acc), \"Inconsistent plotting sizes.\"\n",
        "    \n",
        "    time = list(range(args[\"num_epochs\"]))\n",
        "    visual_df = pd.DataFrame({\n",
        "        \"Train Accuracy\": train_acc,\n",
        "        \"Validation Accuracy\": val_acc,\n",
        "        \"Epoch\": time\n",
        "    })\n",
        "\n",
        "    sns.lineplot(x='Epoch', y='Accuracy', hue='Dataset Split', data=pd.melt(visual_df, ['Epoch'], value_name=\"Accuracy\", var_name=\"Dataset Split\"))\n",
        "    plt.title(\"Accuracy Curves\")\n",
        "    plt.show()"
      ]
    },
    {
      "cell_type": "markdown",
      "metadata": {
        "id": "WtQ7qbE1nLiI"
      },
      "source": [
        "# Training and Evaluation"
      ]
    },
    {
      "cell_type": "code",
      "execution_count": 11,
      "metadata": {
        "id": "aMP_UI_-nLiI"
      },
      "outputs": [],
      "source": [
        "def train(model, cora_dataset):\n",
        "    train_losses = []\n",
        "    val_losses = []\n",
        "    train_accuracies = []\n",
        "    val_accuracies = []\n",
        "\n",
        "    pbar = tqdm(total=args[\"num_epochs\"])\n",
        "    pbar.set_description(f'Epoch')\n",
        "\n",
        "    for epoch in range(args[\"num_epochs\"]):\n",
        "        model.train()\n",
        "        optimizer.zero_grad()\n",
        "\n",
        "        out, _ = model(cora_dataset)  # Pass entire graph through model\n",
        "        loss = F.nll_loss(out[cora_dataset.train_mask], cora_dataset.y[cora_dataset.train_mask])\n",
        "        loss.backward()\n",
        "        optimizer.step()\n",
        "\n",
        "        pred = out.argmax(dim=1)\n",
        "        correct = (pred[cora_dataset.train_mask] == cora_dataset.y[cora_dataset.train_mask]).sum()\n",
        "        train_acc = int(correct) / int(cora_dataset.train_mask.sum())\n",
        "\n",
        "        train_losses.append(loss.item())\n",
        "        train_accuracies.append(train_acc)\n",
        "\n",
        "        # Validate once per epoch\n",
        "        val_loss, val_acc = validation(model, cora_dataset)\n",
        "        val_losses.append(val_loss.item())\n",
        "        val_accuracies.append(val_acc)\n",
        "\n",
        "        pbar.update(epoch)\n",
        "    \n",
        "    pbar.close()\n",
        "    \n",
        "    # Assert that sizes are all the same\n",
        "    assert len(train_losses) == len(val_losses) == len(train_accuracies) == len(val_accuracies), \"Metric list sizes are inconsistent.\"\n",
        "    plot_loss_curves(train_losses, val_losses)\n",
        "    plot_accuracy_curves(train_accuracies, val_accuracies)\n"
      ]
    },
    {
      "cell_type": "code",
      "execution_count": 12,
      "metadata": {
        "id": "Zo0hJTiDnLiJ"
      },
      "outputs": [],
      "source": [
        "def validation(model, cora_dataset):\n",
        "    model.eval()\n",
        "    out, _ = model(cora_dataset)\n",
        "    pred = out.argmax(dim=1)\n",
        "    \n",
        "    val_loss = F.nll_loss(out[cora_dataset.val_mask], cora_dataset.y[cora_dataset.val_mask])\n",
        "    correct = (pred[cora_dataset.val_mask] == cora_dataset.y[cora_dataset.val_mask]).sum()\n",
        "    val_acc = int(correct) / int(cora_dataset.val_mask.sum())\n",
        "    \n",
        "    return val_loss, val_acc\n"
      ]
    },
    {
      "cell_type": "code",
      "execution_count": 13,
      "metadata": {
        "id": "TaIOf69MnLiJ"
      },
      "outputs": [],
      "source": [
        "def test(model, cora_dataset):\n",
        "    model.eval()\n",
        "    out, edge_attn_info = model(cora_dataset)\n",
        "    pred = out.argmax(dim=1)\n",
        "    correct = (pred[cora_dataset.test_mask] == cora_dataset.y[cora_dataset.test_mask]).sum()\n",
        "    accuracy = int(correct) / int(cora_dataset.test_mask.sum())\n",
        "    print(f'Test Set Accuracy: {accuracy:.4f}')\n",
        "    return accuracy, edge_attn_info"
      ]
    },
    {
      "cell_type": "markdown",
      "metadata": {
        "id": "fbky9kkgnLiK"
      },
      "source": [
        "# Driver Code"
      ]
    },
    {
      "cell_type": "code",
      "execution_count": 14,
      "metadata": {
        "colab": {
          "base_uri": "https://localhost:8080/",
          "height": 591
        },
        "id": "MUgvuFREnLiK",
        "outputId": "e71297f5-dda1-4f92-f2e5-8482bdfe1cb0"
      },
      "outputs": [
        {
          "output_type": "stream",
          "name": "stderr",
          "text": [
            "Epoch: : 4950it [00:05, 850.18it/s] \n"
          ]
        },
        {
          "output_type": "display_data",
          "data": {
            "text/plain": [
              "<Figure size 432x288 with 1 Axes>"
            ],
            "image/png": "[encoded data removed]"
          },
          "metadata": {
            "needs_background": "light"
          }
        },
        {
          "output_type": "display_data",
          "data": {
            "text/plain": [
              "<Figure size 432x288 with 1 Axes>"
            ],
            "image/png": "[encoded data removed]"
          },
          "metadata": {
            "needs_background": "light"
          }
        }
      ],
      "source": [
        "train(model, cora_dataset)"
      ]
    },
    {
      "cell_type": "code",
      "execution_count": 15,
      "metadata": {
        "colab": {
          "base_uri": "https://localhost:8080/"
        },
        "id": "NwhmUBEYnLiL",
        "outputId": "ba45127f-421f-4c3e-8fdc-c02e0025d351"
      },
      "outputs": [
        {
          "output_type": "stream",
          "name": "stdout",
          "text": [
            "Test Set Accuracy: 0.7820\n"
          ]
        }
      ],
      "source": [
        "test_acc, edge_attn_info = test(model, cora_dataset)\n",
        "\n",
        "# Save test accuracy so that we log it somewhere. Train and val accuracy are kept in the accuracy curves\n",
        "args[\"test accuracy\"] = test_acc"
      ]
    },
    {
      "cell_type": "code",
      "execution_count": 16,
      "metadata": {
        "colab": {
          "base_uri": "https://localhost:8080/",
          "height": 683
        },
        "id": "Io4lr0A2cet8",
        "outputId": "7ddc6c83-748f-48ae-db1e-07c9a7d7ad3e"
      },
      "outputs": [
        {
          "output_type": "stream",
          "name": "stderr",
          "text": [
            "/usr/local/lib/python3.8/dist-packages/sklearn/manifold/_t_sne.py:780: FutureWarning: The default initialization in TSNE will change from 'random' to 'pca' in 1.2.\n",
            "  warnings.warn(\n",
            "/usr/local/lib/python3.8/dist-packages/sklearn/manifold/_t_sne.py:790: FutureWarning: The default learning rate in TSNE will change from 200.0 to 'auto' in 1.2.\n",
            "  warnings.warn(\n"
          ]
        },
        {
          "output_type": "display_data",
          "data": {
            "text/plain": [
              "<Figure size 720x720 with 1 Axes>"
            ],
            "image/png": "[encoded data removed]"
          },
          "metadata": {}
        },
        {
          "output_type": "display_data",
          "data": {
            "text/plain": [
              "<Figure size 432x288 with 0 Axes>"
            ]
          },
          "metadata": {}
        }
      ],
      "source": [
        "from sklearn.manifold import TSNE\n",
        "def visualize(out, color):\n",
        "    z = TSNE(n_components=2).fit_transform(out.detach().cpu().numpy())\n",
        "    plt.figure(figsize=(10,10))\n",
        "    plt.xticks([])\n",
        "    plt.yticks([])\n",
        "\n",
        "    plt.title(\"GAT\")\n",
        "    plt.scatter(z[:, 0], z[:, 1], s=70, c=color, cmap=\"Set2\")\n",
        "    plt.show()\n",
        "    plt.savefig('./GAT.png',dpi=600)\n",
        "\n",
        "out,_ = model(cora_dataset)\n",
        "visualize(out, color=cora_dataset.y.detach().cpu().numpy())"
      ]
    },
    {
      "cell_type": "markdown",
      "metadata": {
        "id": "k8sFSTcpnLiL"
      },
      "source": [
        "## Attention scores"
      ]
    },
    {
      "cell_type": "code",
      "execution_count": 17,
      "metadata": {
        "colab": {
          "base_uri": "https://localhost:8080/"
        },
        "id": "A3Og25C9nLiL",
        "outputId": "20194498-e5a1-4abe-b24a-1b1eca42d03b"
      },
      "outputs": [
        {
          "output_type": "stream",
          "name": "stdout",
          "text": [
            "torch.Size([2, 13264]) torch.Size([13264, 8]) torch.Size([2, 13264]) torch.Size([13264, 1])\n"
          ]
        }
      ],
      "source": [
        "(edge_idx1, alphas1, edge_idx2, alphas2) = edge_attn_info\n",
        "print(edge_idx1.shape, alphas1.shape, edge_idx2.shape, alphas2.shape)"
      ]
    },
    {
      "cell_type": "code",
      "execution_count": 18,
      "metadata": {
        "colab": {
          "base_uri": "https://localhost:8080/"
        },
        "id": "m58VyoZmnLiM",
        "outputId": "aa455369-ee59-4cb0-f4eb-7ec1591e420f"
      },
      "outputs": [
        {
          "output_type": "stream",
          "name": "stdout",
          "text": [
            "GAT Layer 1 Attention Scores:\n",
            "Average GAT attention score from node 0 to node 633 is 0.2499\n",
            "Average GAT attention score from node 0 to node 1862 is 0.1957\n",
            "Average GAT attention score from node 0 to node 2582 is 0.2517\n",
            "Average GAT attention score from node 1 to node 2 is 0.1870\n",
            "Average GAT attention score from node 1 to node 652 is 0.3059\n",
            "Average GAT attention score from node 1 to node 654 is 0.4317\n",
            "Average GAT attention score from node 2 to node 1 is 0.1962\n",
            "Average GAT attention score from node 2 to node 332 is 0.1571\n",
            "Average GAT attention score from node 2 to node 1454 is 0.4457\n",
            "Average GAT attention score from node 2 to node 1666 is 0.1145\n",
            "Average GAT attention score from node 2 to node 1986 is 0.0140\n",
            "Average GAT attention score from node 3 to node 2544 is 0.4695\n",
            "Average GAT attention score from node 4 to node 1016 is 0.1641\n",
            "Average GAT attention score from node 4 to node 1256 is 0.1140\n",
            "Average GAT attention score from node 4 to node 1761 is 0.1088\n"
          ]
        }
      ],
      "source": [
        "print(\"GAT Layer 1 Attention Scores:\")\n",
        "for i in range(15):\n",
        "    print(\"Average GAT attention score from node {} to node {} is {:.4f}\".format(edge_idx1[0,i], edge_idx1[1,i], alphas1[i,:].mean()))"
      ]
    },
    {
      "cell_type": "code",
      "execution_count": 19,
      "metadata": {
        "colab": {
          "base_uri": "https://localhost:8080/"
        },
        "id": "ZWM9eU1HnLiN",
        "outputId": "30cb4793-a116-4d8e-c71e-961dd6874328"
      },
      "outputs": [
        {
          "output_type": "stream",
          "name": "stdout",
          "text": [
            "GAT Layer 2 Attention Scores:\n",
            "Average GAT attention score from node 0 to node 633 is 0.2655\n",
            "Average GAT attention score from node 0 to node 1862 is 0.2075\n",
            "Average GAT attention score from node 0 to node 2582 is 0.2759\n",
            "Average GAT attention score from node 1 to node 2 is 0.7014\n",
            "Average GAT attention score from node 1 to node 652 is 0.5567\n",
            "Average GAT attention score from node 1 to node 654 is 0.2433\n",
            "Average GAT attention score from node 2 to node 1 is 0.0238\n",
            "Average GAT attention score from node 2 to node 332 is 0.1662\n",
            "Average GAT attention score from node 2 to node 1454 is 0.4368\n",
            "Average GAT attention score from node 2 to node 1666 is 0.1685\n",
            "Average GAT attention score from node 2 to node 1986 is 0.0243\n",
            "Average GAT attention score from node 3 to node 2544 is 0.5046\n",
            "Average GAT attention score from node 4 to node 1016 is 0.1520\n",
            "Average GAT attention score from node 4 to node 1256 is 0.1006\n",
            "Average GAT attention score from node 4 to node 1761 is 0.1386\n"
          ]
        }
      ],
      "source": [
        "print(\"GAT Layer 2 Attention Scores:\")\n",
        "for i in range(15):\n",
        "    print(\"Average GAT attention score from node {} to node {} is {:.4f}\".format(edge_idx2[0,i], edge_idx2[1,i], alphas2[i,:].mean()))"
      ]
    },
    {
      "cell_type": "code",
      "execution_count": 20,
      "metadata": {
        "colab": {
          "base_uri": "https://localhost:8080/"
        },
        "id": "36qNJx31nLiN",
        "outputId": "6563fc74-a687-470f-c171-53b33ccd3587"
      },
      "outputs": [
        {
          "output_type": "execute_result",
          "data": {
            "text/plain": [
              "torch.Size([13264, 8])"
            ]
          },
          "metadata": {},
          "execution_count": 20
        }
      ],
      "source": [
        "alphas1.shape"
      ]
    },
    {
      "cell_type": "markdown",
      "metadata": {
        "id": "RImUU61bnLiN"
      },
      "source": [
        "Find the relationship between large attention score and same class label"
      ]
    },
    {
      "cell_type": "code",
      "execution_count": 21,
      "metadata": {
        "colab": {
          "base_uri": "https://localhost:8080/"
        },
        "id": "b71RYFpPnLiN",
        "outputId": "0f34b4fb-925d-4edc-bbd3-7656f4fd53fc"
      },
      "outputs": [
        {
          "output_type": "execute_result",
          "data": {
            "text/plain": [
              "torch.Size([13264])"
            ]
          },
          "metadata": {},
          "execution_count": 21
        }
      ],
      "source": [
        "alphas1_average = alphas1.mean(dim=1)\n",
        "alphas1_average.shape"
      ]
    },
    {
      "cell_type": "code",
      "execution_count": 22,
      "metadata": {
        "colab": {
          "base_uri": "https://localhost:8080/"
        },
        "id": "tYcN_4L7nLiO",
        "outputId": "a68acde2-e977-44f6-b73f-23dad9a8299f"
      },
      "outputs": [
        {
          "output_type": "execute_result",
          "data": {
            "text/plain": [
              "tensor(5315, device='cuda:0')"
            ]
          },
          "metadata": {},
          "execution_count": 22
        }
      ],
      "source": [
        "torch.argmax(alphas1_average)"
      ]
    },
    {
      "cell_type": "code",
      "execution_count": 23,
      "metadata": {
        "colab": {
          "base_uri": "https://localhost:8080/"
        },
        "id": "u0IAVuKJnLiO",
        "outputId": "b21aa999-fe69-43ba-abc0-88ecf3ee2379"
      },
      "outputs": [
        {
          "output_type": "stream",
          "name": "stdout",
          "text": [
            "Average GAT attention score from node 447 to node 2638 is 0.5449\n"
          ]
        }
      ],
      "source": [
        "print(\"Average GAT attention score from node {} to node {} is {:.4f}\".format(edge_idx1[0,1840], edge_idx1[1,1840], alphas1[1840,:].mean()))"
      ]
    },
    {
      "cell_type": "code",
      "execution_count": 24,
      "metadata": {
        "colab": {
          "base_uri": "https://localhost:8080/"
        },
        "id": "Of6coqW8nLiO",
        "outputId": "a12c1967-d622-42cf-a027-f8769c34b6b4"
      },
      "outputs": [
        {
          "output_type": "stream",
          "name": "stdout",
          "text": [
            "tensor(6, device='cuda:0')\n",
            "tensor(6, device='cuda:0')\n"
          ]
        }
      ],
      "source": [
        "print(cora_dataset.y[447])\n",
        "print(cora_dataset.y[2638])"
      ]
    },
    {
      "cell_type": "markdown",
      "metadata": {
        "id": "A47Kk3MNnLiO"
      },
      "source": [
        "The high similarity score indeed indicated that the two nodes had the same class label. This means that when the GAT layer was computing attention between the node embeddings of nodes 447 and 2638, which were one-hot encoded words from scientific papers, the attention mechanism computed higher similarity between the word dictionary embeddings because the two papers had the same subject."
      ]
    },
    {
      "cell_type": "code",
      "execution_count": 25,
      "metadata": {
        "colab": {
          "base_uri": "https://localhost:8080/"
        },
        "id": "3eYrnrhMnLiP",
        "outputId": "083e6a35-b105-48d5-e759-bfc40aa82e52"
      },
      "outputs": [
        {
          "output_type": "stream",
          "name": "stdout",
          "text": [
            "GAT(\n",
            "  (conv1): GATConv(1433, 8, heads=8)\n",
            "  (conv2): GATConv(64, 7, heads=1)\n",
            "  (act1): ELU(alpha=1.0)\n",
            "  (drop1): Dropout(p=0.6, inplace=False)\n",
            "  (drop2): Dropout(p=0.6, inplace=False)\n",
            ")\n"
          ]
        }
      ],
      "source": [
        "print(model)"
      ]
    },
    {
      "cell_type": "markdown",
      "metadata": {
        "id": "QKnLHfNPnLiP"
      },
      "source": []
    }
  ],
  "metadata": {
    "accelerator": "GPU",
    "colab": {
      "provenance": []
    },
    "gpuClass": "standard",
    "interpreter": {
      "hash": "43c3ec5cb0d81e7b9f9908a53ca28aa4318265e5d52f388cac911a9765dd2a07"
    },
    "kernelspec": {
      "display_name": "Python 3.8.12 ('gnn')",
      "language": "python",
      "name": "python3"
    },
    "language_info": {
      "codemirror_mode": {
        "name": "ipython",
        "version": 3
      },
      "file_extension": ".py",
      "mimetype": "text/x-python",
      "name": "python",
      "nbconvert_exporter": "python",
      "pygments_lexer": "ipython3",
      "version": "3.8.12"
    },
    "orig_nbformat": 4
  },
  "nbformat": 4,
  "nbformat_minor": 0
}